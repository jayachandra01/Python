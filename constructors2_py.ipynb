{
  "nbformat": 4,
  "nbformat_minor": 0,
  "metadata": {
    "colab": {
      "provenance": [],
      "authorship_tag": "ABX9TyOTNVmUFkkB9Gns5qmSzrNa",
      "include_colab_link": true
    },
    "kernelspec": {
      "name": "python3",
      "display_name": "Python 3"
    },
    "language_info": {
      "name": "python"
    }
  },
  "cells": [
    {
      "cell_type": "markdown",
      "metadata": {
        "id": "view-in-github",
        "colab_type": "text"
      },
      "source": [
        "<a href=\"https://colab.research.google.com/github/jayachandra01/Python/blob/main/constructors2_py.ipynb\" target=\"_parent\"><img src=\"https://colab.research.google.com/assets/colab-badge.svg\" alt=\"Open In Colab\"/></a>"
      ]
    },
    {
      "cell_type": "code",
      "execution_count": 2,
      "metadata": {
        "colab": {
          "base_uri": "https://localhost:8080/"
        },
        "id": "I1sRBhDUVE44",
        "outputId": "dffc48fb-a9de-4c73-8bd0-13d5268aa2f2"
      },
      "outputs": [
        {
          "output_type": "stream",
          "name": "stdout",
          "text": [
            "talk\n"
          ]
        }
      ],
      "source": [
        "class Person:\n",
        "  def __init__(self,name):\n",
        "    self.name=name\n",
        "\n",
        "  def talk(self):\n",
        "    print(f\"Hi I am {self.name}\")\n",
        "\n",
        "# Instantiate the class AFTER it's defined\n",
        "john=Person(\"John Smith\")\n",
        "john.talk()\n",
        "\n",
        "bob=Person(\"Bob Smith\")\n",
        "bob.talk()"
      ]
    }
  ]
}