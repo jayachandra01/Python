{
  "nbformat": 4,
  "nbformat_minor": 0,
  "metadata": {
    "colab": {
      "provenance": []
    },
    "kernelspec": {
      "name": "python3",
      "display_name": "Python 3"
    },
    "language_info": {
      "name": "python"
    }
  },
  "cells": [
    {
      "cell_type": "code",
      "execution_count": null,
      "metadata": {
        "id": "tvg3fdmCO1eD"
      },
      "outputs": [],
      "source": [
        "def greet_user():\n",
        "  print(\"Hello there!\")\n",
        "  print(\"Welcome aboard\")\n",
        "\n",
        "print(\"Start\")\n",
        "greet_user()\n",
        "print(\"Finish\")\n"
      ]
    }
  ]
}