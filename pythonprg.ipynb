{
  "nbformat": 4,
  "nbformat_minor": 0,
  "metadata": {
    "colab": {
      "provenance": [],
      "authorship_tag": "ABX9TyMR1/fWki6GkQPKo5yzu1lP",
      "include_colab_link": true
    },
    "kernelspec": {
      "name": "python3",
      "display_name": "Python 3"
    },
    "language_info": {
      "name": "python"
    }
  },
  "cells": [
    {
      "cell_type": "markdown",
      "metadata": {
        "id": "view-in-github",
        "colab_type": "text"
      },
      "source": [
        "<a href=\"https://colab.research.google.com/github/jayachandra01/Python/blob/main/pythonprg.ipynb\" target=\"_parent\"><img src=\"https://colab.research.google.com/assets/colab-badge.svg\" alt=\"Open In Colab\"/></a>"
      ]
    },
    {
      "cell_type": "code",
      "execution_count": 1,
      "metadata": {
        "colab": {
          "base_uri": "https://localhost:8080/"
        },
        "id": "o7l5oY7uabkM",
        "outputId": "a623aade-d2c8-4353-9bb8-b5fda6422685"
      },
      "outputs": [
        {
          "output_type": "stream",
          "name": "stdout",
          "text": [
            "Enter your name: Jayachandra\n",
            "Enter your favorite numbers separated by commas: 2,3,7\n",
            "Hello, Jayachandra!\n",
            "Calculation result: 5.0\n",
            "Favorite numbers:\n",
            "2 is even\n",
            "3 is odd\n",
            "7 is odd\n"
          ]
        }
      ],
      "source": [
        "# Define a function to greet users\n",
        "def greet_user(name):\n",
        "    return f\"Hello, {name}!\"\n",
        "\n",
        "# Define a class to represent a simple calculator\n",
        "class Calculator:\n",
        "    def __init__(self):\n",
        "        self.result = 0\n",
        "\n",
        "    def add(self, value):\n",
        "        self.result += value\n",
        "\n",
        "    def subtract(self, value):\n",
        "        self.result -= value\n",
        "\n",
        "    def multiply(self, value):\n",
        "        self.result *= value\n",
        "\n",
        "    def divide(self, value):\n",
        "        if value != 0:\n",
        "            self.result /= value\n",
        "        else:\n",
        "            print(\"Cannot divide by zero!\")\n",
        "\n",
        "    def reset(self):\n",
        "        self.result = 0\n",
        "\n",
        "    def get_result(self):\n",
        "        return self.result\n",
        "\n",
        "# Get user input for the name\n",
        "user_name = input(\"Enter your name: \")\n",
        "\n",
        "# Get user input for favorite numbers\n",
        "favorite_numbers_input = input(\"Enter your favorite numbers separated by commas: \")\n",
        "favorite_numbers = [int(num) for num in favorite_numbers_input.split(\",\")]\n",
        "\n",
        "# Using the greet_user function\n",
        "print(greet_user(user_name))\n",
        "\n",
        "# Working with the Calculator class\n",
        "calc = Calculator()\n",
        "calc.add(10)\n",
        "calc.multiply(2)\n",
        "calc.subtract(5)\n",
        "calc.divide(3)\n",
        "print(f\"Calculation result: {calc.get_result()}\")\n",
        "\n",
        "# Using a loop and conditionals\n",
        "print(\"Favorite numbers:\")\n",
        "for number in favorite_numbers:\n",
        "    if number % 2 == 0:\n",
        "        print(f\"{number} is even\")\n",
        "    else:\n",
        "        print(f\"{number} is odd\")\n"
      ]
    }
  ]
}