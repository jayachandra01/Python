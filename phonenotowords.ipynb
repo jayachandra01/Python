{
  "nbformat": 4,
  "nbformat_minor": 0,
  "metadata": {
    "colab": {
      "provenance": []
    },
    "kernelspec": {
      "name": "python3",
      "display_name": "Python 3"
    },
    "language_info": {
      "name": "python"
    }
  },
  "cells": [
    {
      "cell_type": "code",
      "execution_count": null,
      "metadata": {
        "id": "0jFbkCaYV7Vb"
      },
      "outputs": [],
      "source": [
        "phone = input(\"numeral: \")\n",
        "digit_mapping = {\n",
        "    \"1\": \"One\",\n",
        "    \"2\": \"Two\",\n",
        "    \"3\": \"Three\",\n",
        "    \"4\": \"Four\",\n",
        "    \"5\": \"Five\",\n",
        "    \"6\": \"Six\",\n",
        "    \"7\": \"Seven\",\n",
        "    \"8\": \"Eight\",\n",
        "    \"9\": \"Nine\",\n",
        "    \"0\": \"Zero\",\n",
        "}\n",
        "output = \"\"\n",
        "for ch in phone:\n",
        "    output += digit_mapping.get(ch, \"!\") + \" \"\n",
        "print(output)"
      ]
    },
    {
      "cell_type": "code",
      "source": [],
      "metadata": {
        "id": "WmEgUc2rK3LG"
      },
      "execution_count": null,
      "outputs": []
    }
  ]
}