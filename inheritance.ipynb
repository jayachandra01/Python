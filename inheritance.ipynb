{
  "nbformat": 4,
  "nbformat_minor": 0,
  "metadata": {
    "colab": {
      "provenance": [],
      "authorship_tag": "ABX9TyMUjJWKbpxrOM85J03GA8Ku",
      "include_colab_link": true
    },
    "kernelspec": {
      "name": "python3",
      "display_name": "Python 3"
    },
    "language_info": {
      "name": "python"
    }
  },
  "cells": [
    {
      "cell_type": "markdown",
      "metadata": {
        "id": "view-in-github",
        "colab_type": "text"
      },
      "source": [
        "<a href=\"https://colab.research.google.com/github/jayachandra01/Python/blob/main/inheritance.ipynb\" target=\"_parent\"><img src=\"https://colab.research.google.com/assets/colab-badge.svg\" alt=\"Open In Colab\"/></a>"
      ]
    },
    {
      "cell_type": "code",
      "execution_count": 8,
      "metadata": {
        "id": "z8Hz8wv0ZNi1",
        "colab": {
          "base_uri": "https://localhost:8080/"
        },
        "outputId": "d65fb7c8-0516-43aa-befc-ac708cf7106c"
      },
      "outputs": [
        {
          "output_type": "stream",
          "name": "stdout",
          "text": [
            "bark\n",
            "meow\n",
            "walk\n",
            "walk\n"
          ]
        }
      ],
      "source": [
        "class Mammal:\n",
        "  def walk(self):\n",
        "    print(\"walk\")\n",
        "\n",
        "class Dog(Mammal):\n",
        "  def bark(self):\n",
        "    print(\"bark\")\n",
        "\n",
        "class Cat(Mammal):\n",
        "  def meow(self):\n",
        "    print(\"meow\")\n",
        "\n",
        "dog1=Dog()\n",
        "dog1.bark()\n",
        "cat1=Cat()\n",
        "cat1.meow()\n",
        "dog1.walk()\n",
        "cat1.walk()\n",
        "\n"
      ]
    }
  ]
}